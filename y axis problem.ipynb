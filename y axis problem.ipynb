{
 "cells": [
  {
   "cell_type": "code",
   "execution_count": 10,
   "metadata": {},
   "outputs": [
    {
     "data": {
      "text/html": [
       "<div>\n",
       "<style scoped>\n",
       "    .dataframe tbody tr th:only-of-type {\n",
       "        vertical-align: middle;\n",
       "    }\n",
       "\n",
       "    .dataframe tbody tr th {\n",
       "        vertical-align: top;\n",
       "    }\n",
       "\n",
       "    .dataframe thead th {\n",
       "        text-align: right;\n",
       "    }\n",
       "</style>\n",
       "<table border=\"1\" class=\"dataframe\">\n",
       "  <thead>\n",
       "    <tr style=\"text-align: right;\">\n",
       "      <th></th>\n",
       "      <th>Unnamed: 0</th>\n",
       "      <th>Unnamed: 0.1</th>\n",
       "      <th>genre</th>\n",
       "      <th>count</th>\n",
       "      <th>allFans</th>\n",
       "      <th>allCritics</th>\n",
       "      <th>normedAllFans</th>\n",
       "      <th>normedAllCritics</th>\n",
       "    </tr>\n",
       "  </thead>\n",
       "  <tbody>\n",
       "    <tr>\n",
       "      <th>0</th>\n",
       "      <td>0</td>\n",
       "      <td>0</td>\n",
       "      <td>Family</td>\n",
       "      <td>21</td>\n",
       "      <td>63.142857</td>\n",
       "      <td>58.523810</td>\n",
       "      <td>3.607770</td>\n",
       "      <td>8.782188</td>\n",
       "    </tr>\n",
       "    <tr>\n",
       "      <th>1</th>\n",
       "      <td>1</td>\n",
       "      <td>1</td>\n",
       "      <td>Scifi</td>\n",
       "      <td>44</td>\n",
       "      <td>60.931818</td>\n",
       "      <td>49.556818</td>\n",
       "      <td>1.396731</td>\n",
       "      <td>-0.184803</td>\n",
       "    </tr>\n",
       "    <tr>\n",
       "      <th>2</th>\n",
       "      <td>2</td>\n",
       "      <td>2</td>\n",
       "      <td>Comedy</td>\n",
       "      <td>79</td>\n",
       "      <td>58.664557</td>\n",
       "      <td>49.772152</td>\n",
       "      <td>-0.870530</td>\n",
       "      <td>0.030531</td>\n",
       "    </tr>\n",
       "    <tr>\n",
       "      <th>3</th>\n",
       "      <td>3</td>\n",
       "      <td>3</td>\n",
       "      <td>Drama</td>\n",
       "      <td>99</td>\n",
       "      <td>65.035354</td>\n",
       "      <td>56.803030</td>\n",
       "      <td>5.500266</td>\n",
       "      <td>7.061409</td>\n",
       "    </tr>\n",
       "    <tr>\n",
       "      <th>4</th>\n",
       "      <td>4</td>\n",
       "      <td>4</td>\n",
       "      <td>Romance</td>\n",
       "      <td>21</td>\n",
       "      <td>61.547619</td>\n",
       "      <td>47.000000</td>\n",
       "      <td>2.012532</td>\n",
       "      <td>-2.741621</td>\n",
       "    </tr>\n",
       "  </tbody>\n",
       "</table>\n",
       "</div>"
      ],
      "text/plain": [
       "   Unnamed: 0  Unnamed: 0.1    genre  count    allFans  allCritics  \\\n",
       "0           0             0   Family     21  63.142857   58.523810   \n",
       "1           1             1    Scifi     44  60.931818   49.556818   \n",
       "2           2             2   Comedy     79  58.664557   49.772152   \n",
       "3           3             3    Drama     99  65.035354   56.803030   \n",
       "4           4             4  Romance     21  61.547619   47.000000   \n",
       "\n",
       "   normedAllFans  normedAllCritics  \n",
       "0       3.607770          8.782188  \n",
       "1       1.396731         -0.184803  \n",
       "2      -0.870530          0.030531  \n",
       "3       5.500266          7.061409  \n",
       "4       2.012532         -2.741621  "
      ]
     },
     "execution_count": 10,
     "metadata": {},
     "output_type": "execute_result"
    }
   ],
   "source": [
    "import numpy as np\n",
    "import pandas as pd\n",
    "import matplotlib.pyplot as plt\n",
    "import seaborn as sns\n",
    "%matplotlib inline\n",
    "sns.set(color_codes=True)\n",
    "\n",
    "genre_df = pd.read_csv(\"genres.csv\")\n",
    "genre_df.head()"
   ]
  },
  {
   "cell_type": "code",
   "execution_count": 29,
   "metadata": {},
   "outputs": [
    {
     "data": {
      "image/png": "[encoded data removed]",
      "text/plain": [
       "<matplotlib.figure.Figure at 0x108def390>"
      ]
     },
     "metadata": {},
     "output_type": "display_data"
    }
   ],
   "source": [
    "%matplotlib inline\n",
    "import numpy as np\n",
    "import matplotlib.pyplot as plt\n",
    "# from importlib import reload   # not needed for python 2\n",
    "# reload(plt)\n",
    "x = np.random.normal(0,10,1000)  # 1000 gaussian samples of mean 0, sigma 10\n",
    "m,xv = np.histogram(x)   # you can call m,xv,p = plt.hist(x) in one pass, but I broke it out here for clarity\n",
    "# now m is going to be the y values or mass, xv is one of the binned values from your distribution\n",
    "plt.hist(x)\n",
    "plt.yticks(np.arange(0,max(m),20.0))  # explicitly set the range from 0, to max(m) with a step size of 20\n",
    "plt.xticks(np.arange(min(xv)-10.0,max(xv)+10.0, 20.0))  # same for the x values\n",
    "plt.show()"
   ]
  },
  {
   "cell_type": "code",
   "execution_count": 31,
   "metadata": {},
   "outputs": [
    {
     "data": {
      "image/png": "[encoded data removed]",
      "text/plain": [
       "<matplotlib.figure.Figure at 0x109b87f60>"
      ]
     },
     "metadata": {},
     "output_type": "display_data"
    }
   ],
   "source": [
    "x = np.random.normal(0,10,1000)\n",
    "plt.hist(x)\n",
    "plt.ylim(-10, 150)\n",
    "plt.show()"
   ]
  },
  {
   "cell_type": "code",
   "execution_count": 9,
   "metadata": {},
   "outputs": [
    {
     "data": {
      "image/png": "[encoded data removed]",
      "text/plain": [
       "<matplotlib.figure.Figure at 0x109590cc0>"
      ]
     },
     "metadata": {},
     "output_type": "display_data"
    }
   ],
   "source": [
    "plt.figure(figsize=(12,8))\n",
    "\n",
    "n_groups = 7\n",
    "index = np.arange(n_groups)\n",
    "bar_width = 0.35\n",
    "opacity = 0.7\n",
    "\n",
    "rects1 = plt.bar(index, genre_df[\"allCritics\"], bar_width,\n",
    "                 alpha=opacity,\n",
    "                 color='b',\n",
    "                 label=\"Critic Ratings\")\n",
    " \n",
    "rects2 = plt.bar(index + bar_width, genre_df[\"allFans\"], bar_width,\n",
    "                 alpha=opacity,\n",
    "                 color='g',\n",
    "                 label=\"Fans Ratings\")\n",
    "plt.xlabel('Genre')\n",
    "plt.ylabel('Ratings')\n",
    "plt.title('Ratings by genre')\n",
    "plt.xticks(index + bar_width, genre_df[\"genre\"], rotation=90)\n",
    "\n",
    "#****** HERE'S THE CODE THAT SHOULD BE MODIFYING THE Y AXIS *******\n",
    "plt.ylim=(30,70)\n",
    "plt.yticks=([30,40,50,60,70])\n",
    "\n",
    "\n",
    "plt.legend()\n",
    "plt.show()"
   ]
  }
 ],
 "metadata": {
  "kernelspec": {
   "display_name": "Python 3",
   "language": "python",
   "name": "python3"
  },
  "language_info": {
   "codemirror_mode": {
    "name": "ipython",
    "version": 3
   },
   "file_extension": ".py",
   "mimetype": "text/x-python",
   "name": "python",
   "nbconvert_exporter": "python",
   "pygments_lexer": "ipython3",
   "version": "3.6.4"
  }
 },
 "nbformat": 4,
 "nbformat_minor": 2
}
